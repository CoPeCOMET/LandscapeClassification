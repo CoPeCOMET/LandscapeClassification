{
 "cells": [
  {
   "cell_type": "markdown",
   "metadata": {
    "id": "giD10fJLdwEg"
   },
   "source": [
    "### Authenticate GEE and start Geemap"
   ]
  },
  {
   "cell_type": "code",
   "execution_count": 7,
   "metadata": {
    "colab": {
     "base_uri": "https://localhost:8080/"
    },
    "executionInfo": {
     "elapsed": 36913,
     "status": "ok",
     "timestamp": 1621939387387,
     "user": {
      "displayName": "Jaap Nienhuis",
      "photoUrl": "https://lh3.googleusercontent.com/a-/AOh14Gh8U82Lq2UOq69OoAsaV1-iScsU1LqIFTPMtdvRlQ=s64",
      "userId": "09012529500512145749"
     },
     "user_tz": -120
    },
    "id": "Q3hSRRNsJmPo",
    "outputId": "76e60bc7-c05b-4621-e6c2-70499d85031f"
   },
   "outputs": [],
   "source": [
    "#!pip install geemap\n",
    "import ee\n",
    "ee.Initialize()\n",
    "#authenticate ee\n",
    "import geemap"
   ]
  },
  {
   "cell_type": "markdown",
   "metadata": {
    "id": "gp2O4KBgJmPq"
   },
   "source": [
    "### outline plot"
   ]
  },
  {
   "cell_type": "code",
   "execution_count": 8,
   "metadata": {
    "colab": {
     "base_uri": "https://localhost:8080/",
     "height": 1000
    },
    "executionInfo": {
     "elapsed": 231,
     "status": "ok",
     "timestamp": 1621939397545,
     "user": {
      "displayName": "Jaap Nienhuis",
      "photoUrl": "https://lh3.googleusercontent.com/a-/AOh14Gh8U82Lq2UOq69OoAsaV1-iScsU1LqIFTPMtdvRlQ=s64",
      "userId": "09012529500512145749"
     },
     "user_tz": -120
    },
    "id": "GXHe6VofJmPq",
    "outputId": "66997cc5-ebf0-43f2-9737-5e377301f86a"
   },
   "outputs": [
    {
     "data": {
      "application/vnd.jupyter.widget-view+json": {
       "model_id": "15a127a32a364298ab2167ed2d04eed2",
       "version_major": 2,
       "version_minor": 0
      },
      "text/plain": [
       "Map(center=[28, -90], controls=(WidgetControl(options=['position', 'transparent_bg'], widget=HBox(children=(To…"
      ]
     },
     "metadata": {},
     "output_type": "display_data"
    }
   ],
   "source": [
    "# Make an area of interest geometry centered on San Francisco.\n",
    "gulf_coast = ee.Geometry.BBox(-98, 26,-82,31)\n",
    "\n",
    "# Import a Landsat 8 image, subset the thermal band, and clip to the\n",
    "\n",
    "# Define a map centered on Gulf Coast\n",
    "Map = geemap.Map()\n",
    "\n",
    "Map.setCenter(-90,28,7)\n",
    "Map.addLayer(gulf_coast, {'color': 'red'}, 'bounding box')\n",
    "Map.addLayerControl() \n",
    "Map"
   ]
  },
  {
   "cell_type": "markdown",
   "metadata": {
    "id": "38BaM0U9rsLn"
   },
   "source": [
    "### load delta binary map"
   ]
  },
  {
   "cell_type": "code",
   "execution_count": 10,
   "metadata": {
    "colab": {
     "base_uri": "https://localhost:8080/",
     "height": 1000
    },
    "executionInfo": {
     "elapsed": 960,
     "status": "ok",
     "timestamp": 1621946309741,
     "user": {
      "displayName": "Jaap Nienhuis",
      "photoUrl": "https://lh3.googleusercontent.com/a-/AOh14Gh8U82Lq2UOq69OoAsaV1-iScsU1LqIFTPMtdvRlQ=s64",
      "userId": "09012529500512145749"
     },
     "user_tz": -120
    },
    "id": "OxGONwm-ry1P",
    "outputId": "616e4c5c-437a-4aa7-d3c6-912d31240f2d"
   },
   "outputs": [
    {
     "data": {
      "application/vnd.jupyter.widget-view+json": {
       "model_id": "756c43b8871c49cf9a8beed312af2fa1",
       "version_major": 2,
       "version_minor": 0
      },
      "text/plain": [
       "Map(center=[28, -90], controls=(WidgetControl(options=['position', 'transparent_bg'], widget=HBox(children=(To…"
      ]
     },
     "metadata": {},
     "output_type": "display_data"
    }
   ],
   "source": [
    "merit = ee.Image(\"MERIT/DEM/v1_0_3\").clip(gulf_coast);\n",
    "merit = merit.reproject(crs=merit.projection(), scale=100)\n",
    "dmask = merit.lt(5).selfMask()\n",
    "\n",
    "\n",
    "WaterMask = ee.ImageCollection('MODIS/006/MOD44W').filter(ee.Filter.date('2015-01-01', '2015-05-01'))\n",
    "WaterMask = ee.Image(WaterMask.first()).select('water_mask').eq(0).convolve(ee.Kernel.square(1)).gt(0)\n",
    "dmask = dmask.updateMask(WaterMask)\n",
    "\n",
    "Map = geemap.Map()\n",
    "Map.setCenter(-90,28,7)\n",
    "Map.addLayer(dmask)\n",
    "Map"
   ]
  },
  {
   "cell_type": "markdown",
   "metadata": {
    "id": "cn-QlsbfJmPr"
   },
   "source": [
    "## label deltas\n",
    "\n",
    "Labeling objects is often the first step in object analysis. Here, the `connectedComponents()` function is used to identify image objects and assign a unique ID to each; all pixels belonging to an object are assigned the same integer ID value. The result is a copy of the input image with an additional \"labels\" band associating pixels with an object ID value based on connectivity of pixels in the first band of the image."
   ]
  },
  {
   "cell_type": "code",
   "execution_count": 11,
   "metadata": {
    "colab": {
     "base_uri": "https://localhost:8080/",
     "height": 0
    },
    "executionInfo": {
     "elapsed": 541,
     "status": "ok",
     "timestamp": 1621946398244,
     "user": {
      "displayName": "Jaap Nienhuis",
      "photoUrl": "https://lh3.googleusercontent.com/a-/AOh14Gh8U82Lq2UOq69OoAsaV1-iScsU1LqIFTPMtdvRlQ=s64",
      "userId": "09012529500512145749"
     },
     "user_tz": -120
    },
    "id": "G5aNUNvOJmPr",
    "outputId": "8f6650ba-ed0c-480d-8e9c-91cb45980ad8"
   },
   "outputs": [
    {
     "data": {
      "application/vnd.jupyter.widget-view+json": {
       "model_id": "ca2abeb188034c55af959a57c8a440c3",
       "version_major": 2,
       "version_minor": 0
      },
      "text/plain": [
       "Map(center=[28, -90], controls=(WidgetControl(options=['position', 'transparent_bg'], widget=HBox(children=(To…"
      ]
     },
     "metadata": {},
     "output_type": "display_data"
    }
   ],
   "source": [
    "# Uniquely label the hotspot image objects.\n",
    "object_id = dmask.connectedComponents(connectedness=ee.Kernel.plus(1), maxSize=1024)\n",
    "\n",
    "Map = geemap.Map()\n",
    "Map.setCenter(-90,28,7)\n",
    "\n",
    "# Add the uniquely ID'ed objects to the map.\n",
    "# Map.addLayer(object_id.randomVisualizer(), {}, 'Objects')\n",
    "\n",
    "# Compute the number of pixels in each object defined by the \"labels\" band.\n",
    "object_size = object_id.select('labels').connectedPixelCount(maxSize=1024, eightConnected=False)\n",
    "#Map.addLayer(object_size, {}, 'Object n pixels')\n",
    "\n",
    "# Get a pixel area image.\n",
    "pixel_area = ee.Image.pixelArea()\n",
    "\n",
    "# Multiply pixel area by the number of pixels in an object to calculate\n",
    "# the object area. The result is an image where each pixel\n",
    "# of an object relates the area of the object in m^2.\n",
    "object_area = object_size.multiply(pixel_area)\n",
    "\n",
    "# Add the object area to the map.\n",
    "#Map.addLayer(object_area,{'min': 0, 'max': 1e8, 'palette': ['red', 'green']},'Object area m^2')\n",
    "\n",
    "# Update the mask of the `object_id` layer defined previously using the\n",
    "# minimum area mask just defined.#only add deltas larger than 10km2\n",
    "object_id = object_id.updateMask(object_area.gte(1e7))\n",
    "Map.addLayer(object_id, {}, 'Large deltas')\n",
    "\n",
    "# Calculate the mean temperature per object defined by the previously added\n",
    "# \"labels\" band.\n",
    "# delta = ee.Image(0).addBands(object_id.select('labels'))\n",
    "#delta_comp = delta.reduceConnectedComponents(\n",
    "#    reducer=ee.Reducer.mean(), labelBand='labels')\n",
    "\n",
    "# Add object mean temperature to the map and display it.\n",
    "Map\n"
   ]
  },
  {
   "cell_type": "markdown",
   "metadata": {
    "id": "cnNAlrQ-fDdI"
   },
   "source": [
    "## reduce to vectors\n",
    "reduce to vectors"
   ]
  },
  {
   "cell_type": "code",
   "execution_count": 13,
   "metadata": {
    "colab": {
     "base_uri": "https://localhost:8080/",
     "height": 0
    },
    "executionInfo": {
     "elapsed": 476,
     "status": "ok",
     "timestamp": 1621946662405,
     "user": {
      "displayName": "Jaap Nienhuis",
      "photoUrl": "https://lh3.googleusercontent.com/a-/AOh14Gh8U82Lq2UOq69OoAsaV1-iScsU1LqIFTPMtdvRlQ=s64",
      "userId": "09012529500512145749"
     },
     "user_tz": -120
    },
    "id": "u7fp_vqqfG8X",
    "outputId": "e4565ef2-9222-4bc1-e7f1-91b28f34f279"
   },
   "outputs": [
    {
     "data": {
      "application/vnd.jupyter.widget-view+json": {
       "model_id": "735896402d9b46a08289dc6732ed9f5e",
       "version_major": 2,
       "version_minor": 0
      },
      "text/plain": [
       "Map(center=[40, -100], controls=(WidgetControl(options=['position', 'transparent_bg'], widget=HBox(children=(T…"
      ]
     },
     "metadata": {},
     "output_type": "display_data"
    }
   ],
   "source": [
    "delta_outlines = object_id.select('labels').reduceToVectors(**{\n",
    "  'geometry': gulf_coast,\n",
    "  'crs': object_id.projection(),\n",
    "  'scale': 1000,\n",
    "  'geometryType': 'polygon',\n",
    "  'eightConnected': False,\n",
    "})\n",
    "Map = geemap.Map()\n",
    "Map.addLayer(delta_outlines)\n",
    "Map"
   ]
  },
  {
   "cell_type": "markdown",
   "metadata": {
    "id": "EOBD-6mMJmPs"
   },
   "source": [
    "## Join with delta database\n",
    "\n",
    "Join earlier dataset with delta dataset, trying a spatial join\n"
   ]
  },
  {
   "cell_type": "code",
   "execution_count": 6,
   "metadata": {
    "colab": {
     "base_uri": "https://localhost:8080/",
     "height": 1000
    },
    "executionInfo": {
     "elapsed": 717,
     "status": "ok",
     "timestamp": 1621946846736,
     "user": {
      "displayName": "Jaap Nienhuis",
      "photoUrl": "https://lh3.googleusercontent.com/a-/AOh14Gh8U82Lq2UOq69OoAsaV1-iScsU1LqIFTPMtdvRlQ=s64",
      "userId": "09012529500512145749"
     },
     "user_tz": -120
    },
    "id": "K_LgC4PTJmPs",
    "outputId": "e4d77998-7b85-4257-9988-498ec913853b"
   },
   "outputs": [
    {
     "data": {
      "application/vnd.jupyter.widget-view+json": {
       "model_id": "141be43aa2e64f6ea52bb5d39836c82c",
       "version_major": 2,
       "version_minor": 0
      },
      "text/plain": [
       "Map(center=[28, -90], controls=(WidgetControl(options=['position', 'transparent_bg'], widget=HBox(children=(To…"
      ]
     },
     "metadata": {},
     "output_type": "display_data"
    }
   ],
   "source": [
    "Map = geemap.Map()\n",
    "Map.setCenter(-90,28,7)\n",
    "\n",
    "GlobalDeltaData = ee.FeatureCollection('users/jhnienhuis/GlobalDeltaBasins_app_shp');\n",
    "DeltaMouth = ee.Geometry.MultiPoint(GlobalDeltaData.aggregate_array(\"MouthLon\").zip(GlobalDeltaData.aggregate_array(\"MouthLat\")))\n",
    "\n",
    "DeltaMouthBuffer = ee.FeatureCollection(DeltaMouth).map(lambda f: f.buffer(2000))\n",
    "\n",
    "join_filter = ee.Filter.withinDistance(2000, '.geo', None, '.geo')\n",
    "DeltaMatch = ee.Join.simple().apply(delta_outlines, DeltaMouthBuffer, join_filter)\n",
    "\n",
    "#Map.addLayer(DeltaMouthBuffer, {'color': 'b0b0b0'}, \"Mouths\")\n",
    "Map.addLayer(DeltaMatch, {}, \"Outlines\")\n",
    "\n",
    "\n",
    "\n",
    "Map.addLayer(DeltaMouth)\n",
    "Map"
   ]
  },
  {
   "cell_type": "code",
   "execution_count": null,
   "metadata": {},
   "outputs": [],
   "source": []
  }
 ],
 "metadata": {
  "colab": {
   "collapsed_sections": [
    "gp2O4KBgJmPq",
    "38BaM0U9rsLn",
    "cn-QlsbfJmPr",
    "cnNAlrQ-fDdI"
   ],
   "name": "make_delta_object.ipynb",
   "provenance": [
    {
     "file_id": "https://github.com/jhnienhuis/LandscapeClassification/blob/main/make_delta_objects.ipynb",
     "timestamp": 1621437970059
    }
   ]
  },
  "kernelspec": {
   "display_name": "Python 3",
   "language": "python",
   "name": "python3"
  },
  "language_info": {
   "codemirror_mode": {
    "name": "ipython",
    "version": 3
   },
   "file_extension": ".py",
   "mimetype": "text/x-python",
   "name": "python",
   "nbconvert_exporter": "python",
   "pygments_lexer": "ipython3",
   "version": "3.8.8"
  }
 },
 "nbformat": 4,
 "nbformat_minor": 4
}
